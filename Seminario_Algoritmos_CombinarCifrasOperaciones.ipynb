{
  "cells": [
    {
      "cell_type": "markdown",
      "metadata": {
        "id": "view-in-github",
        "colab_type": "text"
      },
      "source": [
        "<a href=\"https://colab.research.google.com/github/perezuj5/AlgoritmosOptimizacion/blob/main/Seminario_Algoritmos_CombinarCifrasOperaciones.ipynb\" target=\"_parent\"><img src=\"https://colab.research.google.com/assets/colab-badge.svg\" alt=\"Open In Colab\"/></a>"
      ]
    },
    {
      "cell_type": "markdown",
      "metadata": {
        "id": "hVbXYX-RfPWh"
      },
      "source": [
        "# Algoritmos de optimización - Seminario<br>\n",
        "Nombre y Apellidos: José Manuel Pérez Utrilla  <br>\n",
        "Url: https://github.com/perezuj5/AlgoritmosOptimizacion/blob/main/Seminario_Algoritmos_CombinarCifrasOperaciones.ipynb<br>\n",
        "Problema:\n",
        "> 1. <del> Sesiones de doblaje <br>\n",
        ">2. <del> Organizar los horarios de partidos de La Liga<br>\n",
        ">3. Combinar cifras y operaciones\n",
        "\n",
        "Descripción del problema:(copiar enunciado)\n",
        "\n",
        "....\n",
        "\n",
        "(*) La respuesta es obligatoria\n",
        "\n",
        "\n",
        "\n",
        "\n",
        "\n",
        "                                        "
      ]
    },
    {
      "cell_type": "markdown",
      "metadata": {
        "id": "AiskKkzZfy4e"
      },
      "source": [
        "**Actividad 3: Combinar cifras y operaciones** <br>\n",
        "***Introducción*** <br>\n",
        "En este problema se dispone de las 9 cifras del 1 al 9 (excluyendo el 0) y de los 4 signos básicos de las operaciones aritméticas (suma, resta, multiplicación y división). <br>\n",
        "El objetivo es combinar estas cifras y operadores de forma alternada (es decir, formar expresiones de la forma “dígito, operador, dígito, operador, …”) sin repetir ninguno de ellos para obtener una cantidad dada. Por ejemplo, para obtener el 4 se tiene:<br>\n",
        "\n",
        "  4+2-6/3*1 = 4<br>\n",
        "Debe analizarse el problema para encontrar todos los valores enteros posibles planteando las\n",
        "siguientes cuestiones<br>\n",
        "***¿Qué valor máximo y mínimo se pueden obtener según las condiciones del problem?***<br>\n",
        "- la combinatoria a aplicar para conseguir ese máximo seria aplicar esta fórmula: 9 * 8 + 7 - 2 / 1 = 77 <br>\n",
        "- la combinatoria a aplicar para conseguir ese mínimo seria aplicar esta fórmula: 1 + 4 / 2 - 8 * 9 = -69<br>\n",
        "\n",
        "***¿Es posible encontrar todos los valores enteros posibles entre dicho mínimo y máximo***?<br>\n",
        "Se trata de un conjunto de valores acotados en el mínimo -69 y el máximo 77 pero las combinaciones posibles son mucho más elevdas como veremos en el siguiente apartado\n",
        "\n",
        "• Nota: Es posible usar la función de python “eval” para evaluar una expresión?"
      ]
    },
    {
      "cell_type": "markdown",
      "metadata": {
        "id": "3_-exlrTgLd-"
      },
      "source": [
        "(*)¿Cuantas posibilidades hay sin tener en cuenta las restricciones?<br>\n",
        "\n",
        "\n",
        "\n",
        "¿Cuantas posibilidades hay teniendo en cuenta todas las restricciones.\n",
        "\n",
        "\n"
      ]
    },
    {
      "cell_type": "markdown",
      "metadata": {
        "id": "WfCUqJyKhPcw"
      },
      "source": [
        "Respuesta"
      ]
    },
    {
      "cell_type": "markdown",
      "metadata": {
        "id": "iq6Fe32MgpDX"
      },
      "source": [
        "**Posibilidades sin restricciones** <br>\n",
        "Cada expresión tiene la forma:   Entero1 Operador1 Entero2 Operador2 Entero3 Operador3 Entero4 Operador4 Entero5\n",
        "\n",
        "Donde: <br>\n",
        "Se seleccionan 5 números enteros de los 9 disponibles sin repetición. <br>\n",
        "Esto se puede hacer en: <br>\n",
        "  P(9,5) = 9 × 8 × 7 × 6 × 5 = 15.120 combinaciones. <br>\n",
        "Se ordenan los 4 operadores (sin repetición), lo que da: <br>\n",
        "  4! = 24 combinaciones. <br>\n",
        "Así, el número total de expresiones posibles es: **15.120 × 24 = 362.880** <br>\n",
        "\n",
        "**Posibilidades con restricciones** <br>\n",
        "La principal restricción es que el resultado debe ser un ***número entero***. De las 362.880 expresiones, solo se consideran válidas aquellas cuya evaluación produce un entero.\n",
        "Además, al analizar el problema se busca determinar el valor mínimo y máximo alcanzable y verificar si todos los enteros comprendidos entre ellos pueden obtenerse.\n",
        "\n"
      ]
    },
    {
      "cell_type": "markdown",
      "metadata": {
        "id": "dzynfVJahHoY"
      },
      "source": [
        "Modelo para el espacio de soluciones<br>\n",
        "(*) ¿Cual es la estructura de datos que mejor se adapta al problema? Argumentalo.(Es posible que hayas elegido una al principio y veas la necesidad de cambiar, arguentalo)\n"
      ]
    },
    {
      "cell_type": "markdown",
      "metadata": {
        "id": "xFIJrOwKi2Ti"
      },
      "source": [
        "Respuesta"
      ]
    },
    {
      "cell_type": "markdown",
      "metadata": {
        "id": "38c-7-ejhJmA"
      },
      "source": [
        "**Estructura de datos** <br>\n",
        "Para este problema se han empleado: <br>\n",
        "- Listas para representar las cifras y los operadores.<br>\n",
        "- Permutaciones (usando la librería itertools) para generar las combinaciones posibles de 5 dígitos y de 4 operadores.<br>\n",
        "- Conjuntos (set) para almacenar los resultados enteros obtenidos y evitar duplicados.<br>\n",
        "Esta combinación es adecuada ya que permite recorrer eficientemente el espacio de búsqueda y asegurar la unicidad de los resultados."
      ]
    },
    {
      "cell_type": "markdown",
      "metadata": {
        "id": "7Z9U2W7bi-XS"
      },
      "source": [
        "Según el modelo para el espacio de soluciones<br>\n",
        "(*)¿Cual es la función objetivo?\n",
        "\n",
        "(*)¿Es un problema de maximización o minimización?"
      ]
    },
    {
      "cell_type": "markdown",
      "metadata": {
        "id": "hBalWLM7j1_d"
      },
      "source": [
        "Respuesta"
      ]
    },
    {
      "cell_type": "markdown",
      "metadata": {
        "id": "pDA-rg3Gj5Lz"
      },
      "source": [
        "**Función objetivo**<br>\n",
        "No se describe ninguna función como tal que permite medir la bondad del algoritmo aplicado al no tratarse de un problema de maximiar o minimizar costes<br>\n",
        "\n",
        "**¿Es un problema de maximización o minimización?** <br>\n",
        "No, se trata más bien de explorar el abánico de resultados, no de máximizar o minimizar el costo de una función<br>\n"
      ]
    },
    {
      "cell_type": "markdown",
      "metadata": {
        "id": "rlnTYgY1j6I2"
      },
      "source": [
        "Diseña un algoritmo para resolver el problema por fuerza bruta"
      ]
    },
    {
      "cell_type": "markdown",
      "metadata": {
        "id": "70rDgxYXkC8r"
      },
      "source": [
        "Respuesta"
      ]
    },
    {
      "cell_type": "code",
      "execution_count": null,
      "metadata": {
        "id": "CJb5sQ0qkENy",
        "outputId": "ac52c7fe-e86d-424c-c403-40431c023338"
      },
      "outputs": [
        {
          "name": "stdout",
          "output_type": "stream",
          "text": [
            "Total de expresiones generadas: 362880\n",
            "Total de resultados válidos (enteros) distintos: 147\n",
            "Valor mínimo obtenido: -69\n",
            "Valor máximo obtenido: 77\n",
            "¿Se obtienen todos los enteros entre el mínimo y el máximo? True\n"
          ]
        }
      ],
      "source": [
        "import itertools\n",
        "\n",
        "# Listas de dígitos y operadores\n",
        "digits = [str(d) for d in range(1, 10)]\n",
        "operators = ['+', '-', '*', '/']\n",
        "\n",
        "# Generar todas las permutaciones de 5 dígitos\n",
        "digit_permutations = itertools.permutations(digits, 5)\n",
        "# Generar todas las permutaciones de los 4 operadores (4! = 24)\n",
        "operator_permutations = list(itertools.permutations(operators, 4))\n",
        "\n",
        "valid_results = set()\n",
        "valid_expressions = {}  # Para almacenar alguna expresión representativa para cada resultado\n",
        "total_expressions = 0\n",
        "\n",
        "for d_perm in digit_permutations:\n",
        "    for op_perm in operator_permutations:\n",
        "        # Construir la expresión\n",
        "        expr = d_perm[0] + op_perm[0] + d_perm[1] + op_perm[1] + d_perm[2] + op_perm[2] + d_perm[3] + op_perm[3] + d_perm[4]\n",
        "        total_expressions += 1\n",
        "        try:\n",
        "            result = eval(expr)\n",
        "            # Verificar que el resultado es numérico y entero (consideramos un margen de error)\n",
        "            if isinstance(result, (int, float)) and abs(result - round(result)) < 1e-9:\n",
        "                entero = int(round(result))\n",
        "                valid_results.add(entero)\n",
        "                # Almacenar una expresión representativa para el resultado\n",
        "                if entero not in valid_expressions:\n",
        "                    valid_expressions[entero] = expr\n",
        "        except ZeroDivisionError:\n",
        "            continue\n",
        "\n",
        "print(\"Total de expresiones generadas:\", total_expressions)\n",
        "print(\"Total de resultados válidos (enteros) distintos:\", len(valid_results))\n",
        "min_val = min(valid_results) if valid_results else None\n",
        "max_val = max(valid_results) if valid_results else None\n",
        "print(\"Valor mínimo obtenido:\", min_val)\n",
        "print(\"Valor máximo obtenido:\", max_val)\n",
        "# Comprobar si se obtienen todos los enteros entre el mínimo y el máximo\n",
        "if min_val is not None and max_val is not None:\n",
        "    all_in_range = all(x in valid_results for x in range(min_val, max_val + 1))\n",
        "    print(\"¿Se obtienen todos los enteros entre el mínimo y el máximo?\", all_in_range)\n"
      ]
    },
    {
      "cell_type": "markdown",
      "metadata": {
        "id": "tgrnsC2nkFa8"
      },
      "source": [
        "Calcula la complejidad del algoritmo por fuerza bruta"
      ]
    },
    {
      "cell_type": "markdown",
      "metadata": {
        "id": "9eUd3xwckP68"
      },
      "source": [
        "Respuesta"
      ]
    },
    {
      "cell_type": "markdown",
      "metadata": {
        "id": "rvZWwL-ckRST"
      },
      "source": [
        "Complejidad factorial: O(n!)"
      ]
    },
    {
      "cell_type": "markdown",
      "metadata": {
        "id": "txbrmLmskReM"
      },
      "source": [
        "(*)Diseña un algoritmo que mejore la complejidad del algortimo por fuerza bruta. Argumenta porque crees que mejora el algoritmo por fuerza bruta"
      ]
    },
    {
      "cell_type": "markdown",
      "metadata": {
        "id": "hLrVwt5QkZPD"
      },
      "source": [
        "Respuesta"
      ]
    },
    {
      "cell_type": "markdown",
      "metadata": {
        "id": "m1eyM21Vkabg"
      },
      "source": [
        "**Algoritmo mejorado mediante backtracking**\n",
        "Aunque la fuerza bruta es viable, se puede mejorar el proceso utilizando backtracking para construir la expresión de forma incremental. <br>\n",
        "La idea es:<br>\n",
        "- Agregar dígitos y operadores alternadamente.<br>\n",
        "- Evaluar de forma parcial cuando sea posible.<br>\n",
        "- Poda: si en algún punto se detecta que la rama (por ejemplo, una división que produce un resultado no entero) no puede llevar a un resultado válido, descartarla.<br>\n",
        "Esta técnica reduce el número de evaluaciones innecesarias."
      ]
    },
    {
      "cell_type": "code",
      "execution_count": null,
      "metadata": {
        "id": "NXZx7a5NlDRN",
        "outputId": "cd770cad-367e-45b7-8942-a1328f627454"
      },
      "outputs": [
        {
          "name": "stdout",
          "output_type": "stream",
          "text": [
            "\n",
            "Algoritmo mejorado (Backtracking):\n",
            "Total de resultados válidos (enteros) distintos: 147\n",
            "Valor mínimo obtenido: -69\n",
            "Valor máximo obtenido: 77\n",
            "¿Se obtienen todos los enteros entre el mínimo y el máximo? True\n"
          ]
        }
      ],
      "source": [
        "import itertools\n",
        "\n",
        "def backtracking(expression, remaining_digits, remaining_ops):\n",
        "    \"\"\"\n",
        "    Construye expresiones de forma recursiva. Cuando la expresión está completa,\n",
        "    se evalúa y se almacena si su resultado es entero.\n",
        "    \"\"\"\n",
        "    if not remaining_digits and not remaining_ops:\n",
        "        try:\n",
        "            result = eval(expression)\n",
        "            if isinstance(result, (int, float)) and abs(result - round(result)) < 1e-9:\n",
        "                entero = int(round(result))\n",
        "                valid_results.add(entero)\n",
        "                if entero not in valid_expressions:\n",
        "                    valid_expressions[entero] = expression\n",
        "        except ZeroDivisionError:\n",
        "            pass\n",
        "        return\n",
        "\n",
        "    # Si la expresión está vacía o termina en un operador, se debe agregar un dígito.\n",
        "    if expression == \"\" or expression[-1] in \"+-*/\":\n",
        "        for i, d in enumerate(remaining_digits):\n",
        "            new_expr = expression + d\n",
        "            new_remaining_digits = remaining_digits[:i] + remaining_digits[i+1:]\n",
        "            backtracking(new_expr, new_remaining_digits, remaining_ops)\n",
        "    else:\n",
        "        # Si el último carácter es un dígito, se debe agregar un operador (si quedan)\n",
        "        if remaining_ops:\n",
        "            for i, op in enumerate(remaining_ops):\n",
        "                new_expr = expression + op\n",
        "                new_remaining_ops = remaining_ops[:i] + remaining_ops[i+1:]\n",
        "                backtracking(new_expr, remaining_digits, new_remaining_ops)\n",
        "\n",
        "# Inicialización para backtracking\n",
        "valid_results = set()\n",
        "valid_expressions = {}\n",
        "digits_list = tuple([str(d) for d in range(1, 10)])\n",
        "ops_list = tuple(['+', '-', '*', '/'])\n",
        "\n",
        "# Se generan todas las permutaciones de 5 dígitos de los 9 disponibles y se aplica backtracking.\n",
        "all_digit_permutations = itertools.permutations(digits_list, 5)\n",
        "for d_perm in all_digit_permutations:\n",
        "    backtracking(\"\", list(d_perm), list(ops_list))\n",
        "\n",
        "print(\"\\nAlgoritmo mejorado (Backtracking):\")\n",
        "print(\"Total de resultados válidos (enteros) distintos:\", len(valid_results))\n",
        "min_val = min(valid_results) if valid_results else None\n",
        "max_val = max(valid_results) if valid_results else None\n",
        "print(\"Valor mínimo obtenido:\", min_val)\n",
        "print(\"Valor máximo obtenido:\", max_val)\n",
        "if min_val is not None and max_val is not None:\n",
        "    all_in_range = all(x in valid_results for x in range(min_val, max_val + 1))\n",
        "    print(\"¿Se obtienen todos los enteros entre el mínimo y el máximo?\", all_in_range)\n"
      ]
    },
    {
      "cell_type": "markdown",
      "metadata": {
        "id": "eGDB4K6uk1iN"
      },
      "source": [
        "(*)Calcula la complejidad del algoritmo"
      ]
    },
    {
      "cell_type": "markdown",
      "metadata": {
        "id": "NhpTh_BPk1ms"
      },
      "source": [
        "Respuesta"
      ]
    },
    {
      "cell_type": "markdown",
      "metadata": {
        "id": "nREzhkStlCq8"
      },
      "source": [
        "**La complejidad** <br>\n",
        "Sigue siendo factorial O(n!) y no hay ninguna mejora en tiempos respuesta. De hecho, el tiempo de respuesta ha empeorado. Dado que la fuerza bruta puede recorrer un conjunto limitado datos eficientemente, no necesita realmente ninguna optimización"
      ]
    },
    {
      "cell_type": "markdown",
      "metadata": {
        "id": "3M6QjTsSkmYe"
      },
      "source": [
        "Según el problema (y tenga sentido), diseña un juego de datos de entrada aleatorios"
      ]
    },
    {
      "cell_type": "markdown",
      "metadata": {
        "id": "Jc3_OlyNkvjZ"
      },
      "source": [
        "Respuesta"
      ]
    },
    {
      "cell_type": "code",
      "execution_count": null,
      "metadata": {
        "id": "sJ-N2etjkyWc"
      },
      "outputs": [],
      "source": []
    },
    {
      "cell_type": "markdown",
      "metadata": {
        "id": "zy5ZROmjlGo1"
      },
      "source": [
        "Aplica el algoritmo al juego de datos generado"
      ]
    },
    {
      "cell_type": "markdown",
      "metadata": {
        "id": "_Cmj-PVylMsa"
      },
      "source": [
        "Respuesta"
      ]
    },
    {
      "cell_type": "code",
      "execution_count": null,
      "metadata": {
        "id": "Jkx8GeiYlUz1"
      },
      "outputs": [],
      "source": []
    },
    {
      "cell_type": "markdown",
      "metadata": {
        "id": "eTFWUJQrtGcv"
      },
      "source": [
        "Enumera las referencias que has utilizado(si ha sido necesario) para llevar a cabo el trabajo"
      ]
    },
    {
      "cell_type": "markdown",
      "metadata": {
        "id": "YKQ_mRBttWsP"
      },
      "source": [
        "Respuesta"
      ]
    },
    {
      "cell_type": "markdown",
      "metadata": {
        "id": "kAkDPUyRtYyH"
      },
      "source": [
        "Describe brevemente las lineas de como crees que es posible avanzar en el estudio del problema. Ten en cuenta incluso posibles variaciones del problema y/o variaciones al alza del tamaño"
      ]
    },
    {
      "cell_type": "markdown",
      "metadata": {
        "id": "IE0uZmo-tZu-"
      },
      "source": [
        "Respuesta"
      ]
    }
  ],
  "metadata": {
    "colab": {
      "provenance": [],
      "include_colab_link": true
    },
    "kernelspec": {
      "display_name": "Python [conda env:base] *",
      "language": "python",
      "name": "conda-base-py"
    },
    "language_info": {
      "codemirror_mode": {
        "name": "ipython",
        "version": 3
      },
      "file_extension": ".py",
      "mimetype": "text/x-python",
      "name": "python",
      "nbconvert_exporter": "python",
      "pygments_lexer": "ipython3",
      "version": "3.12.4"
    }
  },
  "nbformat": 4,
  "nbformat_minor": 0
}
