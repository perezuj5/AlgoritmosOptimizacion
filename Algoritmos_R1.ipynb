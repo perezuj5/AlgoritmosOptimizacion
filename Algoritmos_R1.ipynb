{
  "cells": [
    {
      "cell_type": "markdown",
      "metadata": {
        "id": "view-in-github",
        "colab_type": "text"
      },
      "source": [
        "<a href=\"https://colab.research.google.com/github/perezuj5/AlgoritmosOptimizacion/blob/main/Algoritmos_R1.ipynb\" target=\"_parent\"><img src=\"https://colab.research.google.com/assets/colab-badge.svg\" alt=\"Open In Colab\"/></a>"
      ]
    },
    {
      "cell_type": "markdown",
      "metadata": {
        "id": "kQn6fbhgtH9I"
      },
      "source": [
        "# Algoritmos de optimización - Reto 1\n",
        "\n",
        "Nombre: <br>\n",
        "Github: <br>"
      ]
    },
    {
      "cell_type": "markdown",
      "metadata": {
        "id": "_t62Ge7ZuKnC"
      },
      "source": [
        "## Torres de Hanoi con Divide y vencerás\n",
        "\n",
        "Resuelve el problema de las [Torres de Hanoi](https://es.wikipedia.org/wiki/Torres_de_Han%C3%B3i) para un número arbitrario de fichas utilizando la técnica de divide y vencerás."
      ]
    },
    {
      "cell_type": "markdown",
      "metadata": {
        "id": "dd0Us01GldyO"
      },
      "source": [
        "## Sucesión de Fibonacci\n",
        "\n",
        "Cálcula el n-ésimo término de la [Sucesión de Fibonacci](https://es.wikipedia.org/wiki/Sucesi%C3%B3n_de_Fibonacci) mediante un algoritmo recursivo y otro iterativo. Representa gráficamente cómo crece el tiempo de cómputo en función del número de términos para ambos algoritmos."
      ]
    },
    {
      "cell_type": "code",
      "execution_count": 16,
      "metadata": {
        "colab": {
          "base_uri": "https://localhost:8080/"
        },
        "id": "i32G0CUQvauE",
        "outputId": "fea85b2d-e622-4d12-d8aa-6539968aa552"
      },
      "outputs": [
        {
          "output_type": "stream",
          "name": "stdout",
          "text": [
            "\n",
            "Ejemplo con 4 discos\n",
            "Estado inicial:\n",
            "Origen: [4, 3, 2, 1]\n",
            "Destino: []\n",
            "Auxiliar: []\n",
            "Mover disco 1 de Origen a Destino\n",
            "Mover disco 2 de Origen a Destino\n",
            "Mover disco 1 de Origen a Destino\n",
            "Mover disco 3 de Origen a Destino\n",
            "Mover disco 1 de Origen a Destino\n",
            "Mover disco 2 de Origen a Destino\n",
            "Mover disco 1 de Origen a Destino\n",
            "Mover disco 4 de Origen a Destino\n",
            "Mover disco 1 de Origen a Destino\n",
            "Mover disco 2 de Origen a Destino\n",
            "Mover disco 1 de Origen a Destino\n",
            "Mover disco 3 de Origen a Destino\n",
            "Mover disco 1 de Origen a Destino\n",
            "Mover disco 2 de Origen a Destino\n",
            "Mover disco 1 de Origen a Destino\n",
            "\n",
            "Estado final:\n",
            "Origen: []\n",
            "Destino: [4, 3, 2, 1]\n",
            "Auxiliar: []\n",
            "\n",
            "Ejemplo con 5 discos\n",
            "Estado inicial:\n",
            "Origen: [5, 4, 3, 2, 1]\n",
            "Destino: []\n",
            "Auxiliar: []\n",
            "Mover disco 1 de Origen a Destino\n",
            "Mover disco 2 de Origen a Destino\n",
            "Mover disco 1 de Origen a Destino\n",
            "Mover disco 3 de Origen a Destino\n",
            "Mover disco 1 de Origen a Destino\n",
            "Mover disco 2 de Origen a Destino\n",
            "Mover disco 1 de Origen a Destino\n",
            "Mover disco 4 de Origen a Destino\n",
            "Mover disco 1 de Origen a Destino\n",
            "Mover disco 2 de Origen a Destino\n",
            "Mover disco 1 de Origen a Destino\n",
            "Mover disco 3 de Origen a Destino\n",
            "Mover disco 1 de Origen a Destino\n",
            "Mover disco 2 de Origen a Destino\n",
            "Mover disco 1 de Origen a Destino\n",
            "Mover disco 5 de Origen a Destino\n",
            "Mover disco 1 de Origen a Destino\n",
            "Mover disco 2 de Origen a Destino\n",
            "Mover disco 1 de Origen a Destino\n",
            "Mover disco 3 de Origen a Destino\n",
            "Mover disco 1 de Origen a Destino\n",
            "Mover disco 2 de Origen a Destino\n",
            "Mover disco 1 de Origen a Destino\n",
            "Mover disco 4 de Origen a Destino\n",
            "Mover disco 1 de Origen a Destino\n",
            "Mover disco 2 de Origen a Destino\n",
            "Mover disco 1 de Origen a Destino\n",
            "Mover disco 3 de Origen a Destino\n",
            "Mover disco 1 de Origen a Destino\n",
            "Mover disco 2 de Origen a Destino\n",
            "Mover disco 1 de Origen a Destino\n",
            "\n",
            "Estado final:\n",
            "Origen: []\n",
            "Destino: [5, 4, 3, 2, 1]\n",
            "Auxiliar: []\n"
          ]
        }
      ],
      "source": [
        "# Torres de Hanoi\n",
        "def apilar(torre, disco):\n",
        "    torre.append(disco)\n",
        "\n",
        "def desapilar(torre):\n",
        "    if torre:\n",
        "        return torre.pop()\n",
        "    return None\n",
        "\n",
        "def mostrar_torre(nombre, torre):\n",
        "    print(f\"{nombre}: {torre}\")\n",
        "\n",
        "def hanoi(n, origen, destino, auxiliar):\n",
        "    \"\"\"\n",
        "    Función para resolver el problema de las Torres de Hanói usando pilas (listas en Python).\n",
        "    :param n: Número de discos\n",
        "    :param origen: Torre de origen (lista)\n",
        "    :param destino: Torre de destino (lista)\n",
        "    :param auxiliar: Torre auxiliar (lista)\n",
        "    \"\"\"\n",
        "    if n == 1:\n",
        "        disco = desapilar(origen)\n",
        "        apilar(destino, disco)\n",
        "        print(f\"Mover disco {disco} de Origen a Destino\")\n",
        "        return\n",
        "\n",
        "    # Paso 1: Mover los n-1 discos de la torre de origen a la torre auxiliar\n",
        "    hanoi(n - 1, origen, auxiliar, destino)\n",
        "\n",
        "    # Paso 2: Mover el disco más grande (n) de la torre de origen a la torre de destino\n",
        "    disco = desapilar(origen)\n",
        "    apilar(destino, disco)\n",
        "    print(f\"Mover disco {disco} de Origen a Destino\")\n",
        "\n",
        "    # Paso 3: Mover los n-1 discos de la torre auxiliar a la torre de destino\n",
        "    hanoi(n - 1, auxiliar, destino, origen)\n",
        "\n",
        "\n",
        "def ejecutar_hanoi(n):\n",
        "    origen = []\n",
        "    destino = []\n",
        "    auxiliar = []\n",
        "\n",
        "    print(f'\\nEjemplo con {n} discos')\n",
        "\n",
        "    # Apilar los discos en la torre de origen\n",
        "    for i in range(n, 0, -1):\n",
        "        apilar(origen, i)\n",
        "\n",
        "    # Mostrar estado inicial de las torres\n",
        "    print(\"Estado inicial:\")\n",
        "    mostrar_torre(\"Origen\", origen)\n",
        "    mostrar_torre(\"Destino\", destino)\n",
        "    mostrar_torre(\"Auxiliar\", auxiliar)\n",
        "\n",
        "    # Resolver el problema\n",
        "    hanoi(n, origen, destino, auxiliar)\n",
        "\n",
        "    # Mostrar estado final de las torres\n",
        "    print(\"\\nEstado final:\")\n",
        "    mostrar_torre(\"Origen\", origen)\n",
        "    mostrar_torre(\"Destino\", destino)\n",
        "    mostrar_torre(\"Auxiliar\", auxiliar)\n",
        "\n",
        "n = 4\n",
        "ejecutar_hanoi(n)\n",
        "\n",
        "n = 5\n",
        "ejecutar_hanoi(n)"
      ]
    },
    {
      "cell_type": "code",
      "source": [
        "def hanoi(n, origen, destino, auxiliar):\n",
        "    \"\"\"\n",
        "    Función para resolver el problema de las Torres de Hanói usando la técnica de divide y vencerás.\n",
        "    :param n: Número de discos\n",
        "    :param origen: Torre de origen\n",
        "    :param destino: Torre de destino\n",
        "    :param auxiliar: Torre auxiliar\n",
        "    \"\"\"\n",
        "    if n == 1:\n",
        "        print(f\"Mover disco 1 de {origen} a {destino}\")\n",
        "        return\n",
        "\n",
        "    # Paso 1: Mover los n-1 discos de la torre de origen a la torre auxiliar\n",
        "    hanoi(n - 1, origen, auxiliar, destino)\n",
        "\n",
        "    # Paso 2: Mover el disco más grande (n) de la torre de origen a la torre de destino\n",
        "    print(f\"Mover disco {n} de {origen} a {destino}\")\n",
        "\n",
        "    # Paso 3: Mover los n-1 discos de la torre auxiliar a la torre de destino\n",
        "    hanoi(n - 1, auxiliar, destino, origen)\n",
        "\n",
        "# Ejemplo de uso para N discos\n",
        "n = int(input(\"Introduce el número de discos: \"))\n",
        "hanoi(n, \"Origen\", \"Destino\", \"Auxiliar\")"
      ],
      "metadata": {
        "colab": {
          "base_uri": "https://localhost:8080/"
        },
        "id": "LpL8UUyR5q7b",
        "outputId": "bf112e18-521e-4eb2-d6be-3ec4e16e9c03"
      },
      "execution_count": 9,
      "outputs": [
        {
          "output_type": "stream",
          "name": "stdout",
          "text": [
            "Introduce el número de discos: 4\n",
            "Mover disco 1 de Origen a Auxiliar\n",
            "Mover disco 2 de Origen a Destino\n",
            "Mover disco 1 de Auxiliar a Destino\n",
            "Mover disco 3 de Origen a Auxiliar\n",
            "Mover disco 1 de Destino a Origen\n",
            "Mover disco 2 de Destino a Auxiliar\n",
            "Mover disco 1 de Origen a Auxiliar\n",
            "Mover disco 4 de Origen a Destino\n",
            "Mover disco 1 de Auxiliar a Destino\n",
            "Mover disco 2 de Auxiliar a Origen\n",
            "Mover disco 1 de Destino a Origen\n",
            "Mover disco 3 de Auxiliar a Destino\n",
            "Mover disco 1 de Origen a Auxiliar\n",
            "Mover disco 2 de Origen a Destino\n",
            "Mover disco 1 de Auxiliar a Destino\n"
          ]
        }
      ]
    },
    {
      "cell_type": "code",
      "execution_count": null,
      "metadata": {
        "id": "74qZZAekiNYR"
      },
      "outputs": [],
      "source": [
        "#Sucesión_de_Fibonacci\n",
        "\n",
        "\n"
      ]
    },
    {
      "cell_type": "markdown",
      "metadata": {
        "id": "RgT5XJsZ429L"
      },
      "source": [
        "## Devolución de cambio por técnica voraz\n",
        "\n",
        "Resuelve el [Problema del Cambio de Moneda](https://es.wikipedia.org/wiki/Problema_de_cambio_de_monedas) utilizando una técnica voraz."
      ]
    },
    {
      "cell_type": "code",
      "execution_count": null,
      "metadata": {
        "id": "uJtftBLU4-ap"
      },
      "outputs": [],
      "source": [
        "# Problema del cambio de moneda\n",
        "\n",
        "\n",
        "\n",
        "\n"
      ]
    },
    {
      "cell_type": "markdown",
      "metadata": {
        "id": "g8M9GTvy_Fa3"
      },
      "source": [
        "## N-Reinas por técnica de vuelta atrás\n",
        "Resuelve el [Problema de las N-Reinas](https://es.wikipedia.org/wiki/Problema_de_las_ocho_reinas) en un tablero de dimensión N mediante la técnica de la vuelta atrás (backtraking)."
      ]
    },
    {
      "cell_type": "code",
      "execution_count": null,
      "metadata": {
        "id": "FqOPyCmv_K65"
      },
      "outputs": [],
      "source": [
        "# Problema de las N-Reinas\n",
        "\n",
        "\n",
        "\n",
        "\n"
      ]
    },
    {
      "cell_type": "code",
      "execution_count": null,
      "metadata": {
        "id": "xUkOqqDYldyP"
      },
      "outputs": [],
      "source": []
    }
  ],
  "metadata": {
    "colab": {
      "provenance": [],
      "toc_visible": true,
      "include_colab_link": true
    },
    "kernelspec": {
      "display_name": "Python 3 (ipykernel)",
      "language": "python",
      "name": "python3"
    },
    "language_info": {
      "codemirror_mode": {
        "name": "ipython",
        "version": 3
      },
      "file_extension": ".py",
      "mimetype": "text/x-python",
      "name": "python",
      "nbconvert_exporter": "python",
      "pygments_lexer": "ipython3",
      "version": "3.11.5"
    }
  },
  "nbformat": 4,
  "nbformat_minor": 0
}