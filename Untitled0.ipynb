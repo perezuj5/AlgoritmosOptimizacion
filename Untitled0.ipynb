{
  "nbformat": 4,
  "nbformat_minor": 0,
  "metadata": {
    "colab": {
      "provenance": [],
      "authorship_tag": "ABX9TyNMIi4wK9+KGKEnkTHl0juF",
      "include_colab_link": true
    },
    "kernelspec": {
      "name": "python3",
      "display_name": "Python 3"
    },
    "language_info": {
      "name": "python"
    }
  },
  "cells": [
    {
      "cell_type": "markdown",
      "metadata": {
        "id": "view-in-github",
        "colab_type": "text"
      },
      "source": [
        "<a href=\"https://colab.research.google.com/github/perezuj5/AlgoritmosOptimizacion/blob/main/Untitled0.ipynb\" target=\"_parent\"><img src=\"https://colab.research.google.com/assets/colab-badge.svg\" alt=\"Open In Colab\"/></a>"
      ]
    },
    {
      "cell_type": "code",
      "source": [
        "!python -m pip install pulp"
      ],
      "metadata": {
        "colab": {
          "base_uri": "https://localhost:8080/"
        },
        "id": "QOjRu7SZmc9Z",
        "outputId": "867146fb-0079-4c18-adb7-96cc7ab7f45e"
      },
      "execution_count": 2,
      "outputs": [
        {
          "output_type": "stream",
          "name": "stdout",
          "text": [
            "Collecting pulp\n",
            "  Downloading PuLP-2.9.0-py3-none-any.whl.metadata (5.4 kB)\n",
            "Downloading PuLP-2.9.0-py3-none-any.whl (17.7 MB)\n",
            "\u001b[2K   \u001b[90m━━━━━━━━━━━━━━━━━━━━━━━━━━━━━━━━━━━━━━━━\u001b[0m \u001b[32m17.7/17.7 MB\u001b[0m \u001b[31m78.9 MB/s\u001b[0m eta \u001b[36m0:00:00\u001b[0m\n",
            "\u001b[?25hInstalling collected packages: pulp\n",
            "Successfully installed pulp-2.9.0\n"
          ]
        }
      ]
    },
    {
      "cell_type": "code",
      "execution_count": 26,
      "metadata": {
        "id": "SMCs-1qwR1Jz",
        "colab": {
          "base_uri": "https://localhost:8080/"
        },
        "outputId": "cf9aa696-3709-4a91-e5f0-d30c2d876809"
      },
      "outputs": [
        {
          "output_type": "stream",
          "name": "stdout",
          "text": [
            "Número de buses por turno:\n",
            "turno1 = 0.0\n",
            "turno2 = 10.0\n",
            "turno3 = 0.0\n",
            "turno4 = 12.0\n",
            "turno5 = 0.0\n",
            "turno6 = 4.0\n",
            "Número total de buses es: 26.0\n"
          ]
        }
      ],
      "source": [
        "\n",
        "from pulp import LpProblem, LpVariable, LpMinimize\n",
        "\n",
        "# Definir el problema\n",
        "minimizar_buses = LpProblem(\"Problema_Minimizacion\", LpMinimize)\n",
        "\n",
        "# Definir las variables (enteras y mayores o iguales a 0)\n",
        "turno1 = LpVariable(\"turno1\", lowBound=0, cat=\"Integer\")\n",
        "turno2 = LpVariable(\"turno2\", lowBound=0, cat=\"Integer\")\n",
        "turno3 = LpVariable(\"turno3\", lowBound=0, cat=\"Integer\")\n",
        "turno4 = LpVariable(\"turno4\", lowBound=0, cat=\"Integer\")\n",
        "turno5 = LpVariable(\"turno5\", lowBound=0, cat=\"Integer\")\n",
        "turno6 = LpVariable(\"turno6\", lowBound=0, cat=\"Integer\")\n",
        "\n",
        "# Función objetivo\n",
        "minimizar_buses += sum([turno1, turno2, turno3, turno4, turno5, turno6]), \"Minimizar_la_suma\"\n",
        "\n",
        "# Restricciones. Númerno de personas necesarias por turno\n",
        "minimizar_buses += turno1 + turno2 >= 8, \"Buses de 00 a 8\"\n",
        "minimizar_buses += turno2 + turno3 >= 10,\"Buses de 4 a 12\"\n",
        "minimizar_buses += turno3 + turno4 >= 7, \"Buses de 8 a 16\"\n",
        "minimizar_buses += turno4 + turno5 >= 12,\"Buses de 12 a 20\"\n",
        "minimizar_buses += turno5 + turno6 >= 4, \"Buses de 16 a 0\"\n",
        "minimizar_buses += turno1 + turno6 >= 4, \"Buses de 20 a 4\"\n",
        "\n",
        "# Resolver el problema\n",
        "minimizar_buses.solve()\n",
        "\n",
        "# Resultados\n",
        "print(\"Número de buses por turno:\")\n",
        "for v in minimizar_buses.variables():\n",
        "    print(f\"{v.name} = {v.varValue}\")\n",
        "print(f\"Número total de buses es: {minimizar_buses.objective.value()}\")\n"
      ]
    },
    {
      "cell_type": "code",
      "source": [],
      "metadata": {
        "id": "aCtz06TpNHF6"
      },
      "execution_count": null,
      "outputs": []
    },
    {
      "cell_type": "code",
      "source": [],
      "metadata": {
        "id": "QSIzUL8gNHm1"
      },
      "execution_count": null,
      "outputs": []
    },
    {
      "cell_type": "code",
      "source": [
        "import pulp as pl\n",
        "# Crear la variable 'problema' que contendrá el problema Este es un problema de Minimizacion\n",
        "problema = pl.LpProblem(\"Encontrar numero minimo de buses\", pl.LpMinimize)\n",
        "# Las variables están limitadas por abajo siendo 0 y han de ser enteras\n",
        "# Definición del tipo de variables\n",
        "x1 = pl.LpVariable(\"bus_en_f_1\", 0, None, pl.LpInteger)\n",
        "x2 = pl.LpVariable(\"bus_en_f_2\", 0, None, pl.LpInteger)\n",
        "x3 = pl.LpVariable(\"bus_en_f_3\", 0, None, pl.LpInteger)\n",
        "x4 = pl.LpVariable(\"bus_en_f_4\", 0, None, pl.LpInteger)\n",
        "x5 = pl.LpVariable(\"bus_en_f_5\", 0, None, pl.LpInteger)#\n",
        "x6 = pl.LpVariable(\"bus_en_f_6\", 0, None, pl.LpInteger)\n",
        "\n",
        "# Se añade la función objetivo, a minimizar 'problema'\n",
        "problema+=  x1 + x2 +x3 +x4 +x5 +x6 ,\"Número total de autobuses\"\n",
        "# Se introducen las restricciones\n",
        "problema += x1 + x2 >= 8, \"buses en 1a franja\"\n",
        "problema += x2 +  x3 >= 10, \"buses en 2a franja\"\n",
        "problema += x3 + x4 >= 7, \"buses en 3a franja\"\n",
        "problema += x4 +  x5 >= 12, \"buses en 4a franja\"\n",
        "problema += x5 + x6 >= 4, \"buses en 5a franja\"\n",
        "problema += x1 +  x6 >= 4, \"buses en 6 franja\"\n",
        "# Se resuelve el problema con la función solve() de  PuLP's\n",
        "problema.solve()\n",
        "\n",
        "\n",
        "# Se muestra el valor óptimo de cada variable\n",
        "for v in problema.variables():\n",
        "    print(v.name, \"=\", v.varValue)\n",
        "# Imprimir el valor óptimo de la función objetivo\n",
        "print(\"Valor óptimo de la función objetivo :Número de buses=\", pl.value(problema.objective))"
      ],
      "metadata": {
        "colab": {
          "base_uri": "https://localhost:8080/"
        },
        "id": "UhyRIG5u-5FW",
        "outputId": "d6647089-e1f2-4503-cce7-b41f0cff2df0"
      },
      "execution_count": 12,
      "outputs": [
        {
          "output_type": "stream",
          "name": "stdout",
          "text": [
            "bus_en_f_1 = 0.0\n",
            "bus_en_f_2 = 10.0\n",
            "bus_en_f_3 = 0.0\n",
            "bus_en_f_4 = 12.0\n",
            "bus_en_f_5 = 0.0\n",
            "bus_en_f_6 = 4.0\n",
            "Valor óptimo de la función objetivo :Número de buses= 26.0\n"
          ]
        },
        {
          "output_type": "stream",
          "name": "stderr",
          "text": [
            "/usr/local/lib/python3.10/dist-packages/pulp/pulp.py:1298: UserWarning: Spaces are not permitted in the name. Converted to '_'\n",
            "  warnings.warn(\"Spaces are not permitted in the name. Converted to '_'\")\n"
          ]
        }
      ]
    }
  ]
}